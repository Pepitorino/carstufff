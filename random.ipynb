{
 "cells": [
  {
   "cell_type": "code",
   "execution_count": 1,
   "metadata": {},
   "outputs": [],
   "source": [
    "import cv2\n",
    "import numpy as np"
   ]
  },
  {
   "cell_type": "code",
   "execution_count": 3,
   "metadata": {},
   "outputs": [],
   "source": [
    "svm = cv2.ml.SVM_load(\"hog_svm_model.xml\")"
   ]
  },
  {
   "cell_type": "code",
   "execution_count": 4,
   "metadata": {},
   "outputs": [],
   "source": [
    "# Load the input image\n",
    "input_image = cv2.imread(\"Traffic-Dataset-1-Non-NN\\\\valid\\\\hlp-01-20210610-205037-cut_mp4-46_jpg.rf.e8195cb400d1b8feed93f3f9420484f6.jpg\")\n",
    "\n",
    "# Define the HOG parameters (same as used during training)\n",
    "win_size = (64, 64)\n",
    "block_size = (16, 16)\n",
    "block_stride = (8, 8)\n",
    "cell_size = (8, 8)\n",
    "num_bins = 9\n",
    "\n",
    "# Create a HOG descriptor\n",
    "hog = cv2.HOGDescriptor(win_size, block_size, block_stride, cell_size, num_bins)\n",
    "\n",
    "# Define a sliding window to scan the input image\n",
    "win_stride = (8, 8)\n",
    "\n",
    "# List to store detected objects\n",
    "detected_objects = []\n",
    "\n",
    "# Iterate through the image using a sliding window approach\n",
    "for y in range(0, input_image.shape[0] - win_size[1], win_stride[1]):\n",
    "    for x in range(0, input_image.shape[1] - win_size[0], win_stride[0]):\n",
    "        # Extract HOG features for the current window\n",
    "        window = input_image[y:y + win_size[1], x:x + win_size[0]]\n",
    "        features = hog.compute(window).reshape(1, -1)\n",
    "\n",
    "        # Use the SVM model to make predictions\n",
    "        prediction = svm.predict(features)[1]  # [1] returns the predicted label\n",
    "\n",
    "        # If the prediction is positive (1), consider it as a detected object\n",
    "        if prediction == 1:\n",
    "            detected_objects.append((x, y, x + win_size[0], y + win_size[1]))\n",
    "\n",
    "# Draw rectangles around the detected objects\n",
    "for (startX, startY, endX, endY) in detected_objects:\n",
    "    cv2.rectangle(input_image, (startX, startY), (endX, endY), (0, 255, 0), 2)\n",
    "\n",
    "# Display or save the output image with detected objects\n",
    "cv2.imshow(\"Detected Objects\", input_image)\n",
    "cv2.waitKey(0)\n",
    "cv2.destroyAllWindows()"
   ]
  }
 ],
 "metadata": {
  "kernelspec": {
   "display_name": "base",
   "language": "python",
   "name": "python3"
  },
  "language_info": {
   "codemirror_mode": {
    "name": "ipython",
    "version": 3
   },
   "file_extension": ".py",
   "mimetype": "text/x-python",
   "name": "python",
   "nbconvert_exporter": "python",
   "pygments_lexer": "ipython3",
   "version": "3.11.5"
  },
  "orig_nbformat": 4
 },
 "nbformat": 4,
 "nbformat_minor": 2
}

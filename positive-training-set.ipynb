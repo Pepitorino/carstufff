{
 "cells": [
  {
   "cell_type": "code",
   "execution_count": 7,
   "metadata": {},
   "outputs": [],
   "source": [
    "import cv2\n",
    "import numpy as np\n",
    "import os\n",
    "import pandas as pd"
   ]
  },
  {
   "cell_type": "code",
   "execution_count": 8,
   "metadata": {},
   "outputs": [
    {
     "name": "stdout",
     "output_type": "stream",
     "text": [
      "['hlp-01-20210610-205037-cut_mp4-21_jpg.rf.8363efae931b3b673df9350ebf21f840.jpg', 'hlp-01-20210610-205037-cut_mp4-23_jpg.rf.fd860f1baab9909b4e16d9810bb0e723.jpg', 'hlp-01-20210610-205037-cut_mp4-25_jpg.rf.841566934b1ca41eba20def98f228ed2.jpg', 'hlp-01-20210610-205037-cut_mp4-32_jpg.rf.64be7604b8f8ea6f198820badb990d38.jpg', 'hlp-01-20210610-205037-cut_mp4-34_jpg.rf.3a53d70ee59889617fe79500c9fa9c87.jpg', 'hlp-01-20210610-205037-cut_mp4-41_jpg.rf.6fdaceb010b26d63ff7f301cb4216898.jpg', 'hlp-01-20210610-205037-cut_mp4-43_jpg.rf.188b8666e5587af478fde58daa899fc0.jpg', 'hlp-01-20210610-205037-cut_mp4-45_jpg.rf.6ceb47817972616771aa28c56b6ee3fa.jpg', 'hlp-01-20210610-205037-cut_mp4-48_jpg.rf.c937127f9c487100fa8b50c204d195d0.jpg', 'hlp-01-20210610-205037-cut_mp4-50_jpg.rf.1209ee65201bb1fa8ebfb5a84af57d92.jpg', 'hlp-01-20210610-205037-cut_mp4-54_jpg.rf.fa7c20d4588372a10211decfa4063695.jpg', 'hlp-01-20210610-205037-cut_mp4-55_jpg.rf.dfa33b919108a67e309007fa28ce6f23.jpg', 'hlp-01-20210610-205037-cut_mp4-57_jpg.rf.982233aac91e3f0707bc6b4f05ca3c80.jpg', 'hlp-01-20210610-205037-cut_mp4-59_jpg.rf.7282a4019d6bf4f5c6fba818beda1aa2.jpg', 'rama4-01-20210610-170331-cut_mp4-0_jpg.rf.97aec7a8a4c75e992e5e8b2b1b7af61d.jpg', 'rama4-01-20210610-170331-cut_mp4-15_jpg.rf.37b4ebc91430d4960d96db76d35cb3b5.jpg', 'srirat-02-20210811-170944-raining-cut_mp4-10_jpg.rf.0da7df63c20bb2f598065c67de2772fa.jpg', 'srirat-02-20210811-170944-raining-cut_mp4-14_jpg.rf.c0fe34d51c41ebb917ba7c74ca25d1fa.jpg', 'srirat-02-20210811-170944-raining-cut_mp4-28_jpg.rf.ceb188c6e1caf8ba2eaa3895eb5987ea.jpg', 'srirat-02-20210811-170944-raining-cut_mp4-30_jpg.rf.30e3e135320765eb2b468879572891f7.jpg', 'srirat-02-20210811-170944-raining-cut_mp4-32_jpg.rf.b4c6dd14f303b5e4b8d15e66f26b6268.jpg', 'srirat-02-20210811-170944-raining-cut_mp4-44_jpg.rf.55e849ce268394aca27b697f82e0c43d.jpg', 'srirat-02-20210811-170944-raining-cut_mp4-46_jpg.rf.18829d24bfad742f4d289b92be1c6f56.jpg', 'srirat-02-20210811-170944-raining-cut_mp4-48_jpg.rf.7621813a3933bcace403714176db3671.jpg', 'srirat-02-20210811-170944-raining-cut_mp4-50_jpg.rf.9865a24f7b9bb15daf2a04b627ab304f.jpg', 'srirat-02-20210811-170944-raining-cut_mp4-60_jpg.rf.ebf3154b4f6f22f2dd51feb40fcc568f.jpg', 'srirat-02-20210811-170944-raining-cut_mp4-8_jpg.rf.1a534443c41c44deba9a66a7c26d53aa.jpg', '_annotations.csv']\n"
     ]
    }
   ],
   "source": [
    "# Directory path\n",
    "directory_path = \"C:/Users/Ipe/Desktop/CSMODEL/cvMODEL/Traffic-Dataset-1/train\"\n",
    "\n",
    "# Get the list of files in the directory\n",
    "files = os.listdir(directory_path)\n",
    "print(files)"
   ]
  },
  {
   "cell_type": "code",
   "execution_count": 9,
   "metadata": {},
   "outputs": [
    {
     "name": "stdout",
     "output_type": "stream",
     "text": [
      "<bound method NDFrame.head of                                               filename  width  height  \\\n",
      "0    hlp-01-20210610-205037-cut_mp4-43_jpg.rf.188b8...    416     416   \n",
      "1    hlp-01-20210610-205037-cut_mp4-43_jpg.rf.188b8...    416     416   \n",
      "2    hlp-01-20210610-205037-cut_mp4-43_jpg.rf.188b8...    416     416   \n",
      "3    hlp-01-20210610-205037-cut_mp4-43_jpg.rf.188b8...    416     416   \n",
      "4    hlp-01-20210610-205037-cut_mp4-43_jpg.rf.188b8...    416     416   \n",
      "..                                                 ...    ...     ...   \n",
      "259  hlp-01-20210610-205037-cut_mp4-23_jpg.rf.fd860...    416     416   \n",
      "260  hlp-01-20210610-205037-cut_mp4-23_jpg.rf.fd860...    416     416   \n",
      "261  hlp-01-20210610-205037-cut_mp4-23_jpg.rf.fd860...    416     416   \n",
      "262  hlp-01-20210610-205037-cut_mp4-23_jpg.rf.fd860...    416     416   \n",
      "263  hlp-01-20210610-205037-cut_mp4-23_jpg.rf.fd860...    416     416   \n",
      "\n",
      "          class  xmin  ymin  xmax  ymax  \n",
      "0           car   265   165   274   182  \n",
      "1           bus   270   164   287   208  \n",
      "2           car   246   176   255   197  \n",
      "3           car   254   186   265   206  \n",
      "4           car   226   208   240   231  \n",
      "..          ...   ...   ...   ...   ...  \n",
      "259  motorcycle   229   234   235   252  \n",
      "260  motorcycle   210   243   218   268  \n",
      "261  motorcycle   195   322   205   357  \n",
      "262  motorcycle   154   339   168   370  \n",
      "263  motorcycle   131   391   147   416  \n",
      "\n",
      "[264 rows x 8 columns]>\n"
     ]
    }
   ],
   "source": [
    "images = pd.read_csv(directory_path + \"/_annotations.csv\")\n",
    "\n",
    "print(images.head)"
   ]
  },
  {
   "cell_type": "code",
   "execution_count": 10,
   "metadata": {},
   "outputs": [],
   "source": [
    "dim = (64,64)\n",
    "positive_dir = \"C:/Users/Ipe/Desktop/CSMODEL/cvMODEL/Traffic-Dataset-1/positive-train\"\n",
    "\n",
    "for ind in images.index:\n",
    "    imagedir = images[\"filename\"][ind]\n",
    "    frame = cv2.imread(directory_path + \"/\" + imagedir)\n",
    "\n",
    "    xmin = images[\"xmin\"][ind]\n",
    "    ymin = images[\"ymin\"][ind]\n",
    "    xmax = images[\"xmax\"][ind]\n",
    "    ymax = images[\"ymax\"][ind]\n",
    "\n",
    "    cropped_square = frame[ymin:ymax, xmin:xmax]\n",
    "    \n",
    "    cropped_square = cv2.resize(cropped_square, dim)\n",
    "\n",
    "    output_filename = f\"positive_{ind}_{imagedir}.jpg\"\n",
    "    output_path = os.path.join(positive_dir, output_filename)\n",
    "    cv2.imwrite(output_path, cropped_square)\n",
    "\n",
    "cv2.imshow(\"asdf\", cropped_square)\n",
    "cv2.waitKey(0)\n",
    "cv2.destroyAllWindows()"
   ]
  }
 ],
 "metadata": {
  "kernelspec": {
   "display_name": "base",
   "language": "python",
   "name": "python3"
  },
  "language_info": {
   "codemirror_mode": {
    "name": "ipython",
    "version": 3
   },
   "file_extension": ".py",
   "mimetype": "text/x-python",
   "name": "python",
   "nbconvert_exporter": "python",
   "pygments_lexer": "ipython3",
   "version": "3.11.5"
  },
  "orig_nbformat": 4
 },
 "nbformat": 4,
 "nbformat_minor": 2
}
